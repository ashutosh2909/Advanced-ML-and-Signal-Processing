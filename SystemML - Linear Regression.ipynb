{
 "cells": [
  {
   "cell_type": "code",
   "execution_count": 1,
   "metadata": {},
   "outputs": [],
   "source": [
    "# Initial Configuration\n",
    "import findspark \n",
    "findspark.init()\n",
    "\n",
    "from pyspark.context import SparkContext\n",
    "from pyspark.sql.session import SparkSession\n",
    "sc = SparkContext('local') # we are hosting clusters locally.\n",
    "spark = SparkSession(sc) # create an interface to the spark session."
   ]
  },
  {
   "cell_type": "code",
   "execution_count": 2,
   "metadata": {},
   "outputs": [
    {
     "name": "stdout",
     "output_type": "stream",
     "text": [
      "Archiver-Version: Plexus Archiver\n",
      "Artifact-Id: systemml\n",
      "Build-Jdk: 1.8.0_111\n",
      "Build-Time: 2018-01-11 16:39:06 CST\n",
      "Built-By: biuser\n",
      "Created-By: Apache Maven 3.0.5\n",
      "Group-Id: org.apache.systemml\n",
      "Main-Class: org.apache.sysml.api.DMLScript\n",
      "Manifest-Version: 1.0\n",
      "Minimum-Recommended-Spark-Version: 2.1.0\n",
      "Version: 1.1.0-SNAPSHOT\n",
      "\n"
     ]
    }
   ],
   "source": [
    "from systemml import MLContext, dml\n",
    "\n",
    "# create a MLContext object\n",
    "ml = MLContext(sc)\n",
    "print(ml.info())"
   ]
  },
  {
   "cell_type": "markdown",
   "metadata": {},
   "source": [
    "### Linear Regression"
   ]
  },
  {
   "cell_type": "markdown",
   "metadata": {},
   "source": [
    "Apache SystemML has a large selection of algorithm implementations that can be used without modifications. For this example, an existing algorithm will be loaded and executed. First, setup diabetes datasets from scikit-learn."
   ]
  },
  {
   "cell_type": "code",
   "execution_count": 3,
   "metadata": {},
   "outputs": [
    {
     "data": {
      "text/plain": [
       "(442, 10)"
      ]
     },
     "execution_count": 3,
     "metadata": {},
     "output_type": "execute_result"
    }
   ],
   "source": [
    "from sklearn import datasets\n",
    "import numpy as np\n",
    "\n",
    "diabetes = datasets.load_diabetes()\n",
    "diabetes_X = diabetes.data[:, np.newaxis, 2]\n",
    "diabetes_X_train = diabetes_X[:-20]\n",
    "diabetes_X_test = diabetes_X[-20:]\n",
    "diabetes_y_train = diabetes.target[:-20].reshape(-1,1)\n",
    "diabetes_y_test = diabetes.target[-20:].reshape(-1,1)\n",
    "\n",
    "diabetes.data.shape"
   ]
  },
  {
   "cell_type": "markdown",
   "metadata": {},
   "source": [
    "In the next snippet, an existing implementation of Linear Regression Direct Solve is retrieved and run with diabetes input data"
   ]
  },
  {
   "cell_type": "code",
   "execution_count": 4,
   "metadata": {},
   "outputs": [
    {
     "name": "stdout",
     "output_type": "stream",
     "text": [
      "ANTLR Tool version 4.5.3 used for code generation does not match the current runtime version 4.7ANTLR Runtime version 4.5.3 used for parser compilation does not match the current runtime version 4.7ANTLR Tool version 4.5.3 used for code generation does not match the current runtime version 4.7ANTLR Runtime version 4.5.3 used for parser compilation does not match the current runtime version 4.7\n",
      "BEGIN LINEAR REGRESSION SCRIPT\n",
      "Reading X and Y...\n",
      "Calling the Direct Solver...\n",
      "Computing the statistics...\n",
      "AVG_TOT_Y,153.36255924170615\n",
      "STDEV_TOT_Y,77.21853383600028\n",
      "AVG_RES_Y,3.633533705616816E-14\n",
      "STDEV_RES_Y,63.038506337610244\n",
      "DISPERSION,3973.853281276927\n",
      "R2,0.3351312506863875\n",
      "ADJUSTED_R2,0.33354822985468835\n",
      "R2_NOBIAS,0.3351312506863875\n",
      "ADJUSTED_R2_NOBIAS,0.33354822985468835\n",
      "Writing the output matrix...\n",
      "END LINEAR REGRESSION SCRIPT\n",
      "SystemML Statistics:\n",
      "Total execution time:\t\t0.107 sec.\n",
      "Number of executed Spark inst:\t2.\n",
      "\n",
      "\n",
      "[152.91886229]\n"
     ]
    }
   ],
   "source": [
    "from systemml import MLContext, dml, dmlFromResource\n",
    "\n",
    "ml = MLContext(sc)\n",
    "\n",
    "dml_script = dmlFromResource(\"/scripts/algorithms/LinearRegDS.dml\")\n",
    "\n",
    "prog = dml_script.input(X=diabetes_X_train, y=diabetes_y_train).input('$icpt',1.0).output('beta_out')\n",
    "w = ml.execute(prog).get('beta_out')\n",
    "w = w.toNumPy()\n",
    "bias=w[1]\n",
    "print(bias)"
   ]
  },
  {
   "cell_type": "markdown",
   "metadata": {},
   "source": [
    "The results can be displayed graphically using matplotlib as shown below."
   ]
  },
  {
   "cell_type": "code",
   "execution_count": 6,
   "metadata": {},
   "outputs": [
    {
     "data": {
      "text/plain": [
       "[<matplotlib.lines.Line2D at 0x1c62910bdd8>]"
      ]
     },
     "execution_count": 6,
     "metadata": {},
     "output_type": "execute_result"
    },
    {
     "data": {
      "image/png": "[encoded data removed]",
      "text/plain": [
       "<Figure size 432x288 with 1 Axes>"
      ]
     },
     "metadata": {
      "needs_background": "light"
     },
     "output_type": "display_data"
    }
   ],
   "source": [
    "import matplotlib.pyplot as plt\n",
    "\n",
    "plt.scatter(diabetes_X_train, diabetes_y_train,  color='black')\n",
    "plt.scatter(diabetes_X_test, diabetes_y_test,  color='red')\n",
    "\n",
    "plt.plot(diabetes_X_test, (w[0]*diabetes_X_test)+bias, color='blue')"
   ]
  },
  {
   "cell_type": "markdown",
   "metadata": {},
   "source": [
    "### Linear Regression Direct Solve"
   ]
  },
  {
   "cell_type": "markdown",
   "metadata": {},
   "source": [
    "#### Least squares formulation\n",
    "w* = argminw ||Xw-y||2 = argminw (y - Xw)'(y - Xw) = argminw (w'(X'X)w - w'(X'y))/2"
   ]
  },
  {
   "cell_type": "markdown",
   "metadata": {},
   "source": [
    "#### Setting the gradient\n",
    "dw = (X'X)w - (X'y) to 0, w = (X'X)-1(X' y) = solve(X'X, X'y)"
   ]
  },
  {
   "cell_type": "markdown",
   "metadata": {},
   "source": [
    "The following cell creates and runs a script using Apache SystemML that generates a small Spark job for distributed data processing."
   ]
  },
  {
   "cell_type": "code",
   "execution_count": 7,
   "metadata": {},
   "outputs": [
    {
     "name": "stdout",
     "output_type": "stream",
     "text": [
      "SystemML Statistics:\n",
      "Total execution time:\t\t0.001 sec.\n",
      "Number of executed Spark inst:\t2.\n",
      "\r\n",
      "\n"
     ]
    }
   ],
   "source": [
    "script = \"\"\"\n",
    "    # add constant feature to X to model intercept\n",
    "    X = cbind(X, matrix(1, rows=nrow(X), cols=1))\n",
    "    A = t(X) %*% X\n",
    "    b = t(X) %*% y\n",
    "    w = solve(A, b)\n",
    "    bias = as.scalar(w[nrow(w),1])\n",
    "    w = w[1:nrow(w)-1,]\n",
    "\"\"\"\n",
    "\n",
    "prog = dml(script).input(X=diabetes_X_train, y=diabetes_y_train).output('w', 'bias')\n",
    "w, bias = ml.execute(prog).get('w','bias')\n",
    "w = w.toNumPy()"
   ]
  },
  {
   "cell_type": "code",
   "execution_count": 8,
   "metadata": {},
   "outputs": [
    {
     "data": {
      "text/plain": [
       "[<matplotlib.lines.Line2D at 0x1c6291a2208>]"
      ]
     },
     "execution_count": 8,
     "metadata": {},
     "output_type": "execute_result"
    },
    {
     "data": {
      "image/png": "[encoded data removed]",
      "text/plain": [
       "<Figure size 432x288 with 1 Axes>"
      ]
     },
     "metadata": {
      "needs_background": "light"
     },
     "output_type": "display_data"
    }
   ],
   "source": [
    "# Display the results with matplotlib.\n",
    "plt.scatter(diabetes_X_train, diabetes_y_train,  color='black')\n",
    "plt.scatter(diabetes_X_test, diabetes_y_test,  color='red')\n",
    "\n",
    "plt.plot(diabetes_X_test, (w*diabetes_X_test)+bias, color='blue')"
   ]
  },
  {
   "cell_type": "markdown",
   "metadata": {},
   "source": [
    "### Linear Regression Batch Gradient Descent\n",
    "\n"
   ]
  },
  {
   "cell_type": "raw",
   "metadata": {},
   "source": [
    "Algorithm\n",
    "Step 1: Start with an initial point \n",
    "while(not converged) { \n",
    "  Step 2: Compute gradient dw. \n",
    "  Step 3: Compute stepsize alpha.     \n",
    "  Step 4: Update: wnew = wold + alpha*dw \n",
    "}\n",
    "\n",
    "Gradient formula\n",
    "dw = r = (X'X)w - (X'y)\n",
    "\n",
    "Step size formula\n",
    "Find number alpha to minimize f(w + alpha*r) \n",
    "alpha = -(r'r)/(r'X'Xr)"
   ]
  },
  {
   "cell_type": "markdown",
   "metadata": {},
   "source": [
    "Create and execute an Apache SystemML script that uses Spark to distribute data processing."
   ]
  },
  {
   "cell_type": "code",
   "execution_count": 9,
   "metadata": {},
   "outputs": [
    {
     "name": "stdout",
     "output_type": "stream",
     "text": [
      "SystemML Statistics:\n",
      "Total execution time:\t\t0.131 sec.\n",
      "Number of executed Spark inst:\t2.\n",
      "\r\n",
      "\n"
     ]
    }
   ],
   "source": [
    "script = \"\"\"\n",
    "    # add constant feature to X to model intercepts\n",
    "    X = cbind(X, matrix(1, rows=nrow(X), cols=1))\n",
    "    max_iter = 100\n",
    "    w = matrix(0, rows=ncol(X), cols=1)\n",
    "    for(i in 1:max_iter){\n",
    "        XtX = t(X) %*% X\n",
    "        dw = XtX %*%w - t(X) %*% y\n",
    "        alpha = -(t(dw) %*% dw) / (t(dw) %*% XtX %*% dw)\n",
    "        w = w + dw*alpha\n",
    "    }\n",
    "    bias = as.scalar(w[nrow(w),1])\n",
    "    w = w[1:nrow(w)-1,]    \n",
    "\"\"\"\n",
    "\n",
    "prog = dml(script).input(X=diabetes_X_train, y=diabetes_y_train).output('w').output('bias')\n",
    "w, bias = ml.execute(prog).get('w', 'bias')\n",
    "w = w.toNumPy()"
   ]
  },
  {
   "cell_type": "markdown",
   "metadata": {},
   "source": [
    "Visualize the results with matplotlib"
   ]
  },
  {
   "cell_type": "code",
   "execution_count": 10,
   "metadata": {},
   "outputs": [
    {
     "data": {
      "text/plain": [
       "[<matplotlib.lines.Line2D at 0x1c629213390>]"
      ]
     },
     "execution_count": 10,
     "metadata": {},
     "output_type": "execute_result"
    },
    {
     "data": {
      "image/png": "[encoded data removed]",
      "text/plain": [
       "<Figure size 432x288 with 1 Axes>"
      ]
     },
     "metadata": {
      "needs_background": "light"
     },
     "output_type": "display_data"
    }
   ],
   "source": [
    "plt.scatter(diabetes_X_train, diabetes_y_train,  color='black')\n",
    "plt.scatter(diabetes_X_test, diabetes_y_test,  color='red')\n",
    "\n",
    "plt.plot(diabetes_X_test, (w*diabetes_X_test)+bias, color='blue')"
   ]
  },
  {
   "cell_type": "code",
   "execution_count": null,
   "metadata": {},
   "outputs": [],
   "source": []
  }
 ],
 "metadata": {
  "kernelspec": {
   "display_name": "Python 3",
   "language": "python",
   "name": "python3"
  },
  "language_info": {
   "codemirror_mode": {
    "name": "ipython",
    "version": 3
   },
   "file_extension": ".py",
   "mimetype": "text/x-python",
   "name": "python",
   "nbconvert_exporter": "python",
   "pygments_lexer": "ipython3",
   "version": "3.6.5"
  }
 },
 "nbformat": 4,
 "nbformat_minor": 2
}
