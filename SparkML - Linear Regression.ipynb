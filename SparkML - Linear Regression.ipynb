{
 "cells": [
  {
   "cell_type": "code",
   "execution_count": 1,
   "metadata": {},
   "outputs": [],
   "source": [
    "# Initial Configuration\n",
    "import findspark \n",
    "findspark.init()\n",
    "\n",
    "from pyspark.context import SparkContext\n",
    "from pyspark.sql.session import SparkSession\n",
    "sc = SparkContext('local') # we are hosting clusters locally.\n",
    "spark = SparkSession(sc) # create an interface to the spark session."
   ]
  },
  {
   "cell_type": "code",
   "execution_count": 2,
   "metadata": {},
   "outputs": [],
   "source": [
    "# Create Schema\n",
    "from pyspark.sql.types import StructType, StructField, IntegerType\n",
    "\n",
    "schema = StructType([StructField(\"x\",IntegerType(),True),\n",
    "                     StructField(\"y\",IntegerType(),True),\n",
    "                     StructField(\"z\",IntegerType(),True)])"
   ]
  },
  {
   "cell_type": "code",
   "execution_count": 3,
   "metadata": {},
   "outputs": [],
   "source": [
    "import os\n",
    "\n",
    "file_list = os.listdir('HMP_dataset/Climb_stairs')\n",
    "#file_list"
   ]
  },
  {
   "cell_type": "code",
   "execution_count": 6,
   "metadata": {},
   "outputs": [],
   "source": [
    "# Read all the files from the folder and enqueue them in a pyspark dataframe\n",
    "df = None\n",
    "\n",
    "from pyspark.sql.functions import lit\n",
    "\n",
    "for file in file_list:\n",
    "        \n",
    "    \n",
    "        temp_df = spark.read.option('header','false').option('delimiter',' ').csv('HMP_Dataset/' + 'Climb_stairs' + '/' + file, schema = schema)\n",
    "        temp_df = temp_df.withColumn('Class',lit(\"Climb_stairs\"))\n",
    "        temp_df = temp_df.withColumn('Source',lit(file))\n",
    "        \n",
    "        if df is None:\n",
    "            df = temp_df\n",
    "        else:\n",
    "            df = df.union(temp_df)\n",
    "    "
   ]
  },
  {
   "cell_type": "code",
   "execution_count": 7,
   "metadata": {},
   "outputs": [
    {
     "name": "stdout",
     "output_type": "stream",
     "text": [
      "root\n",
      " |-- x: integer (nullable = true)\n",
      " |-- y: integer (nullable = true)\n",
      " |-- z: integer (nullable = true)\n",
      " |-- Class: string (nullable = false)\n",
      " |-- Source: string (nullable = false)\n",
      "\n"
     ]
    }
   ],
   "source": [
    "df.printSchema()"
   ]
  },
  {
   "cell_type": "code",
   "execution_count": 8,
   "metadata": {},
   "outputs": [
    {
     "name": "stdout",
     "output_type": "stream",
     "text": [
      "+---+---+---+------------+--------------------+\n",
      "|  x|  y|  z|       Class|              Source|\n",
      "+---+---+---+------------+--------------------+\n",
      "|  5| 39| 34|Climb_stairs|Accelerometer-201...|\n",
      "|  2| 41| 34|Climb_stairs|Accelerometer-201...|\n",
      "|  5| 39| 34|Climb_stairs|Accelerometer-201...|\n",
      "| 12| 38| 34|Climb_stairs|Accelerometer-201...|\n",
      "|  9| 38| 30|Climb_stairs|Accelerometer-201...|\n",
      "| 10| 36| 29|Climb_stairs|Accelerometer-201...|\n",
      "| 10| 36| 30|Climb_stairs|Accelerometer-201...|\n",
      "| 12| 36| 30|Climb_stairs|Accelerometer-201...|\n",
      "| 16| 36| 29|Climb_stairs|Accelerometer-201...|\n",
      "| 16| 37| 30|Climb_stairs|Accelerometer-201...|\n",
      "| 16| 36| 30|Climb_stairs|Accelerometer-201...|\n",
      "| 17| 37| 30|Climb_stairs|Accelerometer-201...|\n",
      "| 18| 37| 30|Climb_stairs|Accelerometer-201...|\n",
      "| 16| 37| 31|Climb_stairs|Accelerometer-201...|\n",
      "| 16| 36| 31|Climb_stairs|Accelerometer-201...|\n",
      "| 15| 39| 31|Climb_stairs|Accelerometer-201...|\n",
      "| 14| 39| 32|Climb_stairs|Accelerometer-201...|\n",
      "| 14| 40| 32|Climb_stairs|Accelerometer-201...|\n",
      "| 14| 39| 33|Climb_stairs|Accelerometer-201...|\n",
      "| 11| 40| 32|Climb_stairs|Accelerometer-201...|\n",
      "+---+---+---+------------+--------------------+\n",
      "only showing top 20 rows\n",
      "\n"
     ]
    }
   ],
   "source": [
    "df.show()"
   ]
  },
  {
   "cell_type": "code",
   "execution_count": 9,
   "metadata": {},
   "outputs": [],
   "source": [
    "# Create a SQL table of PySpark dataframe\n",
    "df.createOrReplaceTempView('df')\n",
    "df_energy = spark.sql(\"\"\"\n",
    "select sqrt(sum(x*x)+sum(y*y)+sum(z*z)) as label, class from df group by class\n",
    "\"\"\")      \n",
    "df_energy.createOrReplaceTempView('df_energy')          "
   ]
  },
  {
   "cell_type": "code",
   "execution_count": 10,
   "metadata": {},
   "outputs": [],
   "source": [
    "df_join = spark.sql('select * from df inner join df_energy on df.class=df_energy.class')"
   ]
  },
  {
   "cell_type": "code",
   "execution_count": 11,
   "metadata": {},
   "outputs": [
    {
     "name": "stdout",
     "output_type": "stream",
     "text": [
      "+---+---+---+------------+--------------------+------------------+------------+\n",
      "|  x|  y|  z|       Class|              Source|             label|       Class|\n",
      "+---+---+---+------------+--------------------+------------------+------------+\n",
      "|  5| 39| 34|Climb_stairs|Accelerometer-201...|11082.626493751379|Climb_stairs|\n",
      "|  2| 41| 34|Climb_stairs|Accelerometer-201...|11082.626493751379|Climb_stairs|\n",
      "|  5| 39| 34|Climb_stairs|Accelerometer-201...|11082.626493751379|Climb_stairs|\n",
      "| 12| 38| 34|Climb_stairs|Accelerometer-201...|11082.626493751379|Climb_stairs|\n",
      "|  9| 38| 30|Climb_stairs|Accelerometer-201...|11082.626493751379|Climb_stairs|\n",
      "| 10| 36| 29|Climb_stairs|Accelerometer-201...|11082.626493751379|Climb_stairs|\n",
      "| 10| 36| 30|Climb_stairs|Accelerometer-201...|11082.626493751379|Climb_stairs|\n",
      "| 12| 36| 30|Climb_stairs|Accelerometer-201...|11082.626493751379|Climb_stairs|\n",
      "| 16| 36| 29|Climb_stairs|Accelerometer-201...|11082.626493751379|Climb_stairs|\n",
      "| 16| 37| 30|Climb_stairs|Accelerometer-201...|11082.626493751379|Climb_stairs|\n",
      "| 16| 36| 30|Climb_stairs|Accelerometer-201...|11082.626493751379|Climb_stairs|\n",
      "| 17| 37| 30|Climb_stairs|Accelerometer-201...|11082.626493751379|Climb_stairs|\n",
      "| 18| 37| 30|Climb_stairs|Accelerometer-201...|11082.626493751379|Climb_stairs|\n",
      "| 16| 37| 31|Climb_stairs|Accelerometer-201...|11082.626493751379|Climb_stairs|\n",
      "| 16| 36| 31|Climb_stairs|Accelerometer-201...|11082.626493751379|Climb_stairs|\n",
      "| 15| 39| 31|Climb_stairs|Accelerometer-201...|11082.626493751379|Climb_stairs|\n",
      "| 14| 39| 32|Climb_stairs|Accelerometer-201...|11082.626493751379|Climb_stairs|\n",
      "| 14| 40| 32|Climb_stairs|Accelerometer-201...|11082.626493751379|Climb_stairs|\n",
      "| 14| 39| 33|Climb_stairs|Accelerometer-201...|11082.626493751379|Climb_stairs|\n",
      "| 11| 40| 32|Climb_stairs|Accelerometer-201...|11082.626493751379|Climb_stairs|\n",
      "+---+---+---+------------+--------------------+------------------+------------+\n",
      "only showing top 20 rows\n",
      "\n"
     ]
    }
   ],
   "source": [
    "df_join.show()"
   ]
  },
  {
   "cell_type": "code",
   "execution_count": 12,
   "metadata": {},
   "outputs": [],
   "source": [
    "from pyspark.ml.feature import VectorAssembler\n",
    "from pyspark.ml.feature import Normalizer\n",
    "\n",
    "\n",
    "vectorAssembler = VectorAssembler(inputCols=[\"x\",\"y\",\"z\"],\n",
    "                                  outputCol=\"features\")\n",
    "normalizer = Normalizer(inputCol=\"features\", outputCol=\"features_norm\", p=1.0)"
   ]
  },
  {
   "cell_type": "code",
   "execution_count": 13,
   "metadata": {},
   "outputs": [],
   "source": [
    "from pyspark.ml.regression import LinearRegression\n",
    "\n",
    "lr = LinearRegression(maxIter=10, regParam=0.3, elasticNetParam=0.8)"
   ]
  },
  {
   "cell_type": "code",
   "execution_count": 14,
   "metadata": {},
   "outputs": [],
   "source": [
    "from pyspark.ml import Pipeline\n",
    "pipeline = Pipeline(stages=[vectorAssembler, normalizer,lr])\n"
   ]
  },
  {
   "cell_type": "code",
   "execution_count": 15,
   "metadata": {},
   "outputs": [],
   "source": [
    "model = pipeline.fit(df_join)"
   ]
  },
  {
   "cell_type": "code",
   "execution_count": 16,
   "metadata": {},
   "outputs": [],
   "source": [
    "prediction = model.transform(df_join)"
   ]
  },
  {
   "cell_type": "code",
   "execution_count": 17,
   "metadata": {},
   "outputs": [
    {
     "name": "stdout",
     "output_type": "stream",
     "text": [
      "+---+---+---+------------+--------------------+------------------+------------+----------------+--------------------+------------------+\n",
      "|  x|  y|  z|       Class|              Source|             label|       Class|        features|       features_norm|        prediction|\n",
      "+---+---+---+------------+--------------------+------------------+------------+----------------+--------------------+------------------+\n",
      "|  5| 39| 34|Climb_stairs|Accelerometer-201...|11082.626493751379|Climb_stairs| [5.0,39.0,34.0]|[0.06410256410256...|11082.626493751399|\n",
      "|  2| 41| 34|Climb_stairs|Accelerometer-201...|11082.626493751379|Climb_stairs| [2.0,41.0,34.0]|[0.02597402597402...|11082.626493751399|\n",
      "|  5| 39| 34|Climb_stairs|Accelerometer-201...|11082.626493751379|Climb_stairs| [5.0,39.0,34.0]|[0.06410256410256...|11082.626493751399|\n",
      "| 12| 38| 34|Climb_stairs|Accelerometer-201...|11082.626493751379|Climb_stairs|[12.0,38.0,34.0]|[0.14285714285714...|11082.626493751399|\n",
      "|  9| 38| 30|Climb_stairs|Accelerometer-201...|11082.626493751379|Climb_stairs| [9.0,38.0,30.0]|[0.11688311688311...|11082.626493751399|\n",
      "| 10| 36| 29|Climb_stairs|Accelerometer-201...|11082.626493751379|Climb_stairs|[10.0,36.0,29.0]|[0.13333333333333...|11082.626493751399|\n",
      "| 10| 36| 30|Climb_stairs|Accelerometer-201...|11082.626493751379|Climb_stairs|[10.0,36.0,30.0]|[0.13157894736842...|11082.626493751399|\n",
      "| 12| 36| 30|Climb_stairs|Accelerometer-201...|11082.626493751379|Climb_stairs|[12.0,36.0,30.0]|[0.15384615384615...|11082.626493751399|\n",
      "| 16| 36| 29|Climb_stairs|Accelerometer-201...|11082.626493751379|Climb_stairs|[16.0,36.0,29.0]|[0.19753086419753...|11082.626493751399|\n",
      "| 16| 37| 30|Climb_stairs|Accelerometer-201...|11082.626493751379|Climb_stairs|[16.0,37.0,30.0]|[0.19277108433734...|11082.626493751399|\n",
      "| 16| 36| 30|Climb_stairs|Accelerometer-201...|11082.626493751379|Climb_stairs|[16.0,36.0,30.0]|[0.19512195121951...|11082.626493751399|\n",
      "| 17| 37| 30|Climb_stairs|Accelerometer-201...|11082.626493751379|Climb_stairs|[17.0,37.0,30.0]|[0.20238095238095...|11082.626493751399|\n",
      "| 18| 37| 30|Climb_stairs|Accelerometer-201...|11082.626493751379|Climb_stairs|[18.0,37.0,30.0]|[0.21176470588235...|11082.626493751399|\n",
      "| 16| 37| 31|Climb_stairs|Accelerometer-201...|11082.626493751379|Climb_stairs|[16.0,37.0,31.0]|[0.19047619047619...|11082.626493751399|\n",
      "| 16| 36| 31|Climb_stairs|Accelerometer-201...|11082.626493751379|Climb_stairs|[16.0,36.0,31.0]|[0.19277108433734...|11082.626493751399|\n",
      "| 15| 39| 31|Climb_stairs|Accelerometer-201...|11082.626493751379|Climb_stairs|[15.0,39.0,31.0]|[0.17647058823529...|11082.626493751399|\n",
      "| 14| 39| 32|Climb_stairs|Accelerometer-201...|11082.626493751379|Climb_stairs|[14.0,39.0,32.0]|[0.16470588235294...|11082.626493751399|\n",
      "| 14| 40| 32|Climb_stairs|Accelerometer-201...|11082.626493751379|Climb_stairs|[14.0,40.0,32.0]|[0.16279069767441...|11082.626493751399|\n",
      "| 14| 39| 33|Climb_stairs|Accelerometer-201...|11082.626493751379|Climb_stairs|[14.0,39.0,33.0]|[0.16279069767441...|11082.626493751399|\n",
      "| 11| 40| 32|Climb_stairs|Accelerometer-201...|11082.626493751379|Climb_stairs|[11.0,40.0,32.0]|[0.13253012048192...|11082.626493751399|\n",
      "+---+---+---+------------+--------------------+------------------+------------+----------------+--------------------+------------------+\n",
      "only showing top 20 rows\n",
      "\n"
     ]
    }
   ],
   "source": [
    "prediction.show()"
   ]
  },
  {
   "cell_type": "code",
   "execution_count": 18,
   "metadata": {},
   "outputs": [
    {
     "data": {
      "text/plain": [
       "-inf"
      ]
     },
     "execution_count": 18,
     "metadata": {},
     "output_type": "execute_result"
    }
   ],
   "source": [
    "model.stages[2].summary.r2"
   ]
  },
  {
   "cell_type": "code",
   "execution_count": null,
   "metadata": {},
   "outputs": [],
   "source": []
  }
 ],
 "metadata": {
  "kernelspec": {
   "display_name": "Python 3",
   "language": "python",
   "name": "python3"
  },
  "language_info": {
   "codemirror_mode": {
    "name": "ipython",
    "version": 3
   },
   "file_extension": ".py",
   "mimetype": "text/x-python",
   "name": "python",
   "nbconvert_exporter": "python",
   "pygments_lexer": "ipython3",
   "version": "3.6.5"
  }
 },
 "nbformat": 4,
 "nbformat_minor": 2
}
